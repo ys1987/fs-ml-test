{
 "metadata": {
  "kernelspec": {
   "display_name": ".NET (F#)",
   "language": "F#",
   "name": ".net-fsharp"
  },
  "language_info": {
   "name": "F#"
  }
 },
 "cells": [
  {
   "cell_type": "markdown",
   "source": [
    "# nugetパッケージのインストール\r\n",
    "\r\n",
    "計算用ライブラリ： MathNet.Numerics.FSharp(https://numerics.mathdotnet.com/)  \r\n",
    "描画用ライブラリ：Plotly.NET、Plotly.NET.Interactive(https://plotly.net/)  \r\n",
    "  \r\n",
    "FSharp.Dataは型プロバイダで使用するものだが、今回は実際には不要"
   ],
   "metadata": {}
  },
  {
   "cell_type": "code",
   "execution_count": null,
   "source": [
    "#r \"nuget: MathNet.Numerics.FSharp\"\r\n",
    "#r \"nuget: FSharp.Data\"\r\n",
    "#r \"nuget: Plotly.NET, 2.0.0-preview.7\"\r\n",
    "#r \"nuget: Plotly.NET.Interactive, 2.0.0-preview.7\""
   ],
   "outputs": [],
   "metadata": {
    "dotnet_interactive": {
     "language": "fsharp"
    }
   }
  },
  {
   "cell_type": "markdown",
   "source": [
    "## ライブラリの読み込み"
   ],
   "metadata": {}
  },
  {
   "cell_type": "code",
   "execution_count": null,
   "source": [
    "open MathNet.Numerics.LinearAlgebra\r\n",
    "open MathNet.Numerics.Distributions\r\n",
    "open FSharp.Data\r\n",
    "open Plotly.NET"
   ],
   "outputs": [],
   "metadata": {
    "dotnet_interactive": {
     "language": "fsharp"
    }
   }
  },
  {
   "cell_type": "markdown",
   "source": [
    "# 描画のサンプル\r\n",
    "下記Urlから入手したtrain.csvファイルを同じフォルダに配置して実行する  \r\n",
    "https://www.kaggle.com/c/house-prices-advanced-regression-techniques"
   ],
   "metadata": {}
  },
  {
   "cell_type": "code",
   "execution_count": null,
   "source": [
    "type data = CsvProvider<\"train.csv\">"
   ],
   "outputs": [],
   "metadata": {
    "dotnet_interactive": {
     "language": "fsharp"
    }
   }
  },
  {
   "cell_type": "code",
   "execution_count": null,
   "source": [
    "let train = data.GetSample()\r\n",
    "let list = [for r in train.Rows do r.GrLivArea, r.SalePrice]\r\n",
    "Chart.Point(x = (list |> List.map fst), y = (list |> List.map snd))"
   ],
   "outputs": [],
   "metadata": {
    "dotnet_interactive": {
     "language": "fsharp"
    }
   }
  },
  {
   "cell_type": "markdown",
   "source": [
    "# ガウス分布（正規分布）"
   ],
   "metadata": {}
  },
  {
   "cell_type": "code",
   "execution_count": null,
   "source": [
    "// 平均\r\n",
    "let mean = 10.0\r\n",
    "// 精度\r\n",
    "let precision = 0.01\r\n",
    "\r\n",
    "let normal = Normal.WithMeanPrecision(mean, precision)\r\n",
    "[for x in -50.0 .. 0.1 .. 50.0 -> (x, normal.Density(x))] |> Chart.Line"
   ],
   "outputs": [],
   "metadata": {
    "dotnet_interactive": {
     "language": "fsharp"
    }
   }
  },
  {
   "cell_type": "markdown",
   "source": [
    "## 複数の分布を合わせて表示"
   ],
   "metadata": {}
  },
  {
   "cell_type": "code",
   "execution_count": null,
   "source": [
    "let normal1 = Normal.WithMeanPrecision(10.0, 2.5)\r\n",
    "let normal2 = Normal.WithMeanPrecision(0.0, 00.1)\r\n",
    "let normal3 = Normal.WithMeanPrecision(-10.0, 0.01)\r\n",
    "[\r\n",
    "    [for x in -50.0 .. 0.1 .. 50.0 -> (x, normal1.Density(x))] |> Chart.Line |> Chart.withTraceName $\"μ={normal1.Mean:N3}, λ={normal1.Precision:N3}\"\r\n",
    "    [for x in -50.0 .. 0.1 .. 50.0 -> (x, normal2.Density(x))] |> Chart.Line |> Chart.withTraceName $\"μ={normal2.Mean:N3}, λ={normal2.Precision:N3}\"\r\n",
    "    [for x in -50.0 .. 0.1 .. 50.0 -> (x, normal3.Density(x))] |> Chart.Line |> Chart.withTraceName $\"μ={normal3.Mean:N3}, λ={normal3.Precision:N3}\"\r\n",
    "]\r\n",
    "|> Chart.combine"
   ],
   "outputs": [],
   "metadata": {
    "dotnet_interactive": {
     "language": "fsharp"
    }
   }
  },
  {
   "cell_type": "markdown",
   "source": [
    "# ガンマ分布"
   ],
   "metadata": {}
  },
  {
   "cell_type": "code",
   "execution_count": null,
   "source": [
    "let a = 1.0\r\n",
    "let b = 1.0\r\n",
    "let gamma = Gamma.WithShapeRate(a, b)\r\n",
    "[for x in 0.0 .. 0.1 .. 50.0 -> (x, gamma.Density(x))] |> Chart.Line"
   ],
   "outputs": [],
   "metadata": {
    "dotnet_interactive": {
     "language": "fsharp"
    }
   }
  },
  {
   "cell_type": "code",
   "execution_count": null,
   "source": [
    "let gamma1 = Gamma.WithShapeRate(1.0, 1.0)\r\n",
    "let gamma2 = Gamma.WithShapeRate(1.0, 2.0)\r\n",
    "let gamma3 = Gamma.WithShapeRate(2.0, 1.0)\r\n",
    "let gamma4 = Gamma.WithShapeRate(1.0, 2.0)\r\n",
    "let gamma5 = Gamma.WithShapeRate(9.0, 0.5)\r\n",
    "[\r\n",
    "    [for x in 0.0 .. 0.1 .. 50.0 -> (x, gamma1.Density(x))] |> Chart.Line |> Chart.withTraceName $\"a={gamma1.Shape:N3}, b={gamma1.Rate:N3}\"\r\n",
    "    [for x in 0.0 .. 0.1 .. 50.0 -> (x, gamma2.Density(x))] |> Chart.Line |> Chart.withTraceName $\"a={gamma2.Shape:N3}, b={gamma2.Rate:N3}\"\r\n",
    "    [for x in 0.0 .. 0.1 .. 50.0 -> (x, gamma3.Density(x))] |> Chart.Line |> Chart.withTraceName $\"a={gamma3.Shape:N3}, b={gamma3.Rate:N3}\"\r\n",
    "    [for x in 0.0 .. 0.1 .. 50.0 -> (x, gamma4.Density(x))] |> Chart.Line |> Chart.withTraceName $\"a={gamma4.Shape:N3}, b={gamma4.Rate:N3}\"\r\n",
    "    [for x in 0.0 .. 0.1 .. 50.0 -> (x, gamma5.Density(x))] |> Chart.Line |> Chart.withTraceName $\"a={gamma5.Shape:N3}, b={gamma5.Rate:N3}\"\r\n",
    "]\r\n",
    "|> Chart.combine"
   ],
   "outputs": [],
   "metadata": {
    "dotnet_interactive": {
     "language": "fsharp"
    }
   }
  },
  {
   "cell_type": "markdown",
   "source": [
    "# スチューデントのt分布"
   ],
   "metadata": {}
  },
  {
   "cell_type": "code",
   "execution_count": null,
   "source": [
    "let mu = 0.0\r\n",
    "let sigma_2 = 1.0\r\n",
    "let nu = 1.0\r\n",
    "// Math.Netのスチューデントのt分布は精度λではなく、分散σ^2となっている\r\n",
    "let studentT = StudentT(mu, sigma_2, nu)\r\n",
    "[for x in -50.0 .. 0.1 .. 50.0 -> (x, studentT.Density(x))] |> Chart.Line"
   ],
   "outputs": [],
   "metadata": {
    "dotnet_interactive": {
     "language": "fsharp"
    }
   }
  },
  {
   "cell_type": "code",
   "execution_count": null,
   "source": [
    "let studentT1 = StudentT(0.0, 1.0, 1.0)\r\n",
    "let studentT2 = StudentT(10.0, 2.0, 1.0)\r\n",
    "let studentT3 = StudentT(0.0, 3.0, 1.0)\r\n",
    "let studentT4 = StudentT(0.0, 3.0, 3.0)\r\n",
    "let studentT5 = StudentT(0.0, 3.0, Double.MaxValue)\r\n",
    "\r\n",
    "[\r\n",
    "    [for x in -50.0 .. 0.1 .. 50.0 -> (x, studentT1.Density(x))] |> Chart.Line |> Chart.withTraceName $\"μ={studentT1.Location:N3}, σ^2={studentT1.Scale:N3}, ν={studentT1.DegreesOfFreedom:N3}\"\r\n",
    "    [for x in -50.0 .. 0.1 .. 50.0 -> (x, studentT2.Density(x))] |> Chart.Line |> Chart.withTraceName $\"μ={studentT2.Location:N3}, σ^2={studentT2.Scale:N3}, ν={studentT2.DegreesOfFreedom:N3}\"\r\n",
    "    [for x in -50.0 .. 0.1 .. 50.0 -> (x, studentT3.Density(x))] |> Chart.Line |> Chart.withTraceName $\"μ={studentT3.Location:N3}, σ^2={studentT3.Scale:N3}, ν={studentT3.DegreesOfFreedom:N3}\"\r\n",
    "    [for x in -50.0 .. 0.1 .. 50.0 -> (x, studentT4.Density(x))] |> Chart.Line |> Chart.withTraceName $\"μ={studentT4.Location:N3}, σ^2={studentT4.Scale:N3}, ν={studentT4.DegreesOfFreedom:N3}\"\r\n",
    "    [for x in -50.0 .. 0.1 .. 50.0 -> (x, studentT5.Density(x))] |> Chart.Line |> Chart.withTraceName $\"μ={studentT5.Location:N3}, σ^2={studentT5.Scale:N3}, ν=Double.MaxValue\"\r\n",
    "]\r\n",
    "|> Chart.combine\r\n",
    "|> Chart.withSize(800.0, 500.0)"
   ],
   "outputs": [],
   "metadata": {
    "dotnet_interactive": {
     "language": "fsharp"
    }
   }
  },
  {
   "cell_type": "code",
   "execution_count": null,
   "source": [
    "let normal = Normal(0.0, 10.0)\r\n",
    "let studentT1 = StudentT(0.0, 10.0, 1.0)\r\n",
    "let studentT2 = StudentT(0.0, 10.0, 5.0)\r\n",
    "let studentT3 = StudentT(0.0, 10.0, 10.0)\r\n",
    "let studentT4 = StudentT(0.0, 10.0, 100.0)\r\n",
    "let studentT5 = StudentT(0.0, 10.0, Double.MaxValue)\r\n",
    "[\r\n",
    "    [for x in -50.0 .. 0.1 .. 50.0 -> (x, normal.Density(x))] |> Chart.Line |> Chart.withTraceName \"正規分布\"\r\n",
    "    [for x in -50.0 .. 0.1 .. 50.0 -> (x, studentT1.Density(x))] |> Chart.Line |> Chart.withTraceName $\"自由度 ν={studentT1.DegreesOfFreedom:N3}\"\r\n",
    "    [for x in -50.0 .. 0.1 .. 50.0 -> (x, studentT2.Density(x))] |> Chart.Line |> Chart.withTraceName $\"自由度  ν={studentT2.DegreesOfFreedom:N3}\"\r\n",
    "    [for x in -50.0 .. 0.1 .. 50.0 -> (x, studentT3.Density(x))] |> Chart.Line |> Chart.withTraceName $\"自由度  ν={studentT3.DegreesOfFreedom:N3}\"\r\n",
    "    [for x in -50.0 .. 0.1 .. 50.0 -> (x, studentT4.Density(x))] |> Chart.Line |> Chart.withTraceName $\"自由度  ν={studentT4.DegreesOfFreedom:N3}\"\r\n",
    "    [for x in -50.0 .. 0.1 .. 50.0 -> (x, studentT5.Density(x))] |> Chart.Line |> Chart.withTraceName $\"自由度  ν=Double.MaxValue\"\r\n",
    "]\r\n",
    "|> Chart.combine\r\n",
    "|> Chart.withSize(800.0, 500.0)"
   ],
   "outputs": [],
   "metadata": {
    "dotnet_interactive": {
     "language": "fsharp"
    }
   }
  },
  {
   "cell_type": "code",
   "execution_count": null,
   "source": [
    "let normal = Normal(0.0, 10.0)\r\n",
    "let studentT1 = StudentT(0.0, 10.0, 1.0)\r\n",
    "let studentT2 = StudentT(0.0, 10.0, 5.0)\r\n",
    "let studentT3 = StudentT(0.0, 10.0, 10.0)\r\n",
    "let studentT4 = StudentT(0.0, 10.0, 100.0)\r\n",
    "let studentT5 = StudentT(0.0, 10.0, Double.MaxValue)\r\n",
    "[\r\n",
    "    [for x in -50.0 .. 0.1 .. 50.0 -> (x, normal.Density(x))] |> Chart.Line |> Chart.withTraceName \"正規分布\"\r\n",
    "    [for x in -50.0 .. 0.1 .. 50.0 -> (x, studentT1.Density(x))] |> Chart.Line |> Chart.withTraceName $\"自由度 ν={studentT1.DegreesOfFreedom:N3}\"\r\n",
    "    [for x in -50.0 .. 0.1 .. 50.0 -> (x, studentT2.Density(x))] |> Chart.Line |> Chart.withTraceName $\"自由度  ν={studentT2.DegreesOfFreedom:N3}\"\r\n",
    "    [for x in -50.0 .. 0.1 .. 50.0 -> (x, studentT3.Density(x))] |> Chart.Line |> Chart.withTraceName $\"自由度  ν={studentT3.DegreesOfFreedom:N3}\"\r\n",
    "    [for x in -50.0 .. 0.1 .. 50.0 -> (x, studentT4.Density(x))] |> Chart.Line |> Chart.withTraceName $\"自由度  ν={studentT4.DegreesOfFreedom:N3}\"\r\n",
    "    [for x in -50.0 .. 0.1 .. 50.0 -> (x, studentT5.Density(x))] |> Chart.Line |> Chart.withTraceName $\"自由度  ν=Double.MaxValue\"\r\n",
    "]\r\n",
    "|> Chart.combine\r\n",
    "|> Chart.withSize(800.0, 500.0)"
   ],
   "outputs": [],
   "metadata": {
    "dotnet_interactive": {
     "language": "fsharp"
    }
   }
  },
  {
   "cell_type": "markdown",
   "source": [
    "# ベイズ推論のテスト"
   ],
   "metadata": {}
  },
  {
   "cell_type": "code",
   "execution_count": null,
   "source": [
    "let mean = 185.0\r\n",
    "let precision = 0.1\r\n",
    "\r\n",
    "let trueDistribution = Normal.WithMeanPrecision(mean, precision)\r\n",
    "[for x in 150.0 .. 0.1 .. 250.0 -> (x, trueDistribution.Density(x))] |> Chart.Line"
   ],
   "outputs": [],
   "metadata": {
    "dotnet_interactive": {
     "language": "fsharp"
    }
   }
  },
  {
   "cell_type": "code",
   "execution_count": null,
   "source": [
    "let mean = 185.0\r\n",
    "let precision = 0.1\r\n",
    "\r\n",
    "let trueDistribution = Normal.WithMeanPrecision(mean, precision)\r\n",
    "[for x in 150.0 .. 0.1 .. 250.0 -> (x, trueDistribution.Density(x))] |> Chart.Line"
   ],
   "outputs": [],
   "metadata": {
    "dotnet_interactive": {
     "language": "fsharp"
    }
   }
  },
  {
   "cell_type": "code",
   "execution_count": null,
   "source": [
    "let sampleCount = 500\r\n",
    "let samples = trueDistribution.Samples() |> Seq.take sampleCount |> Seq.toArray\r\n",
    "samples"
   ],
   "outputs": [],
   "metadata": {
    "dotnet_interactive": {
     "language": "fsharp"
    }
   }
  },
  {
   "cell_type": "code",
   "execution_count": null,
   "source": [
    "let sampleCount = 500\r\n",
    "let samples = trueDistribution.Samples() |> Seq.take sampleCount |> Seq.toArray\r\n",
    "samples"
   ],
   "outputs": [],
   "metadata": {
    "dotnet_interactive": {
     "language": "fsharp"
    }
   }
  },
  {
   "cell_type": "code",
   "execution_count": null,
   "source": [
    "samples |> Chart.Histogram"
   ],
   "outputs": [],
   "metadata": {
    "dotnet_interactive": {
     "language": "fsharp"
    }
   }
  },
  {
   "cell_type": "code",
   "execution_count": null,
   "source": [
    "let m = 0.0\r\n",
    "let beta = 1.0\r\n",
    "let a = 1.0\r\n",
    "let b = 1.0"
   ],
   "outputs": [],
   "metadata": {
    "dotnet_interactive": {
     "language": "fsharp"
    }
   }
  },
  {
   "cell_type": "code",
   "execution_count": null,
   "source": [
    "let m = 0.0\r\n",
    "let beta = 1.0\r\n",
    "let a = 1.0\r\n",
    "let b = 1.0"
   ],
   "outputs": [],
   "metadata": {
    "dotnet_interactive": {
     "language": "fsharp"
    }
   }
  },
  {
   "cell_type": "code",
   "execution_count": null,
   "source": [
    "let priorDistribution = NormalGamma(m, beta, a, b)\r\n",
    "let normal = Normal.WithMeanPrecision(priorDistribution.MeanMarginal().Mean, priorDistribution.PrecisionMarginal().Mean)\r\n",
    "[for x in (priorDistribution.MeanMarginal().Mean - 50.0) .. 0.1 .. (priorDistribution.MeanMarginal().Mean + 50.0) -> (x, normal.Density(x))] |> Chart.Line"
   ],
   "outputs": [],
   "metadata": {
    "dotnet_interactive": {
     "language": "fsharp"
    }
   }
  },
  {
   "cell_type": "code",
   "execution_count": null,
   "source": [
    "let priorDistribution = NormalGamma(m, beta, a, b)\r\n",
    "let normal = Normal.WithMeanPrecision(priorDistribution.MeanMarginal().Mean, priorDistribution.PrecisionMarginal().Mean)\r\n",
    "[for x in (priorDistribution.MeanMarginal().Mean - 50.0) .. 0.1 .. (priorDistribution.MeanMarginal().Mean + 50.0) -> (x, normal.Density(x))] |> Chart.Line"
   ],
   "outputs": [],
   "metadata": {
    "dotnet_interactive": {
     "language": "fsharp"
    }
   }
  },
  {
   "cell_type": "code",
   "execution_count": null,
   "source": [
    "let learn trainData m beta a b =\r\n",
    "    let hatBeta = (double (Seq.length trainData)) + beta\r\n",
    "    let hatM = (Seq.sum trainData + beta * m) / hatBeta\r\n",
    "    let hatA = (double (Seq.length trainData)) / 2.0 + a\r\n",
    "    let hatB =  ((Seq.sum (Seq.map (fun x -> Math.Pow(x, 2.0)) trainData)) + beta * Math.Pow(m, 2.0) - hatBeta * Math.Pow(hatM, 2.0)) / 2.0 + b\r\n",
    "    (hatM, hatBeta, hatA, hatB)"
   ],
   "outputs": [],
   "metadata": {
    "dotnet_interactive": {
     "language": "fsharp"
    }
   }
  },
  {
   "cell_type": "code",
   "execution_count": null,
   "source": [
    "let learn trainData m beta a b =\r\n",
    "    let hatBeta = (double (Seq.length trainData)) + beta\r\n",
    "    let hatM = (Seq.sum trainData + beta * m) / hatBeta\r\n",
    "    let hatA = (double (Seq.length trainData)) / 2.0 + a\r\n",
    "    let hatB =  ((Seq.sum (Seq.map (fun x -> Math.Pow(x, 2.0)) trainData)) + beta * Math.Pow(m, 2.0) - hatBeta * Math.Pow(hatM, 2.0)) / 2.0 + b\r\n",
    "    (hatM, hatBeta, hatA, hatB)"
   ],
   "outputs": [],
   "metadata": {
    "dotnet_interactive": {
     "language": "fsharp"
    }
   }
  },
  {
   "cell_type": "code",
   "execution_count": null,
   "source": [
    "learn samples m beta a b"
   ],
   "outputs": [],
   "metadata": {
    "dotnet_interactive": {
     "language": "fsharp"
    }
   }
  },
  {
   "cell_type": "code",
   "execution_count": null,
   "source": [
    "let m1, beta1, a1, b1 = learn samples m beta a b\r\n",
    "let posteriorDistribution1 = NormalGamma(m1, beta1, a1, b1)\r\n",
    "let normal1 = Normal.WithMeanPrecision(posteriorDistribution1.MeanMarginal().Mean, posteriorDistribution1.PrecisionMarginal().Mean)\r\n",
    "[\r\n",
    "    [for x in 130.0 .. 0.1 .. 250.0 -> (x, trueDistribution.Density(x))] |> Chart.Line|> Chart.withTraceName $\"真の分布(μ={trueDistribution.Mean:N3}, λ={trueDistribution.Precision:N3})\" \r\n",
    "    [for x in 130.0 .. 0.1 .. 250.0 -> (x, normal1.Density(x))] |> Chart.Line |> Chart.withTraceName $\"事後分布の平均・精度の期待値を設定した正規分布(μ={normal1.Mean:N3}, λ={normal1.Precision:N3})\"\r\n",
    "]\r\n",
    "|> Chart.combine\r\n",
    "|> Chart.withYAxisStyle(\"確率\", MinMax = (0.0, 0.2))\r\n",
    "|> Chart.withSize(1200.0, 500.0)"
   ],
   "outputs": [],
   "metadata": {
    "dotnet_interactive": {
     "language": "fsharp"
    }
   }
  },
  {
   "cell_type": "code",
   "execution_count": null,
   "source": [
    "let createPredictedDistribution m beta a b =\r\n",
    "    let mu_s = m\r\n",
    "    let lambda_s = (beta * a) / ((1.0 + beta) * b)\r\n",
    "    let nu_s = 2.0 * a\r\n",
    "    // Math.Netのスューデントのt分布は精度λではなく、分散σ^2となっているので……\r\n",
    "    let sigma_2_s = 1.0 / Math.Sqrt(lambda_s)\r\n",
    "    StudentT(mu_s, sigma_2_s, nu_s)"
   ],
   "outputs": [],
   "metadata": {
    "dotnet_interactive": {
     "language": "fsharp"
    }
   }
  },
  {
   "cell_type": "code",
   "execution_count": null,
   "source": [
    "let createPredictedDistribution m beta a b =\r\n",
    "    let mu_s = m\r\n",
    "    let lambda_s = (beta * a) / ((1.0 + beta) * b)\r\n",
    "    let nu_s = 2.0 * a\r\n",
    "    // Math.Netのスューデントのt分布は精度λではなく、分散σ^2となっているので……\r\n",
    "    let sigma_2_s = 1.0 / Math.Sqrt(lambda_s)\r\n",
    "    StudentT(mu_s, sigma_2_s, nu_s)"
   ],
   "outputs": [],
   "metadata": {
    "dotnet_interactive": {
     "language": "fsharp"
    }
   }
  },
  {
   "cell_type": "code",
   "execution_count": null,
   "source": [
    "let predictedDistribution1 = createPredictedDistribution m1 beta1 a1 b1\r\n",
    "[\r\n",
    "    [for x in 130.0 .. 0.1 .. 250.0 -> (x, trueDistribution.Density(x))] |> Chart.Line|> Chart.withTraceName $\"真の分布(μ={trueDistribution.Mean:N3}, σ={trueDistribution.StdDev:N3})\" \r\n",
    "    [for x in 130.0 .. 0.1 .. 250.0 -> (x, predictedDistribution1.Density(x))] |> Chart.Line |> Chart.withTraceName $\"予測分布(μ={predictedDistribution1.Mean:N3}, σ={predictedDistribution1.StdDev:N3})\"\r\n",
    "]\r\n",
    "|> Chart.combine\r\n",
    "|> Chart.withYAxisStyle(\"確率\", MinMax = (0.0, 0.2))\r\n",
    "|> Chart.withSize(1000.0, 500.0)"
   ],
   "outputs": [],
   "metadata": {
    "dotnet_interactive": {
     "language": "fsharp"
    }
   }
  },
  {
   "cell_type": "code",
   "execution_count": null,
   "source": [
    "// mを170.0に変更してみる\r\n",
    "let m2, beta2, a2, b2 = learn samples 170.0 beta a b\r\n",
    "let posteriorDistribution2 = NormalGamma(m2, beta2, a2, b2)\r\n",
    "let normal2 = Normal.WithMeanPrecision(posteriorDistribution2.MeanMarginal().Mean, posteriorDistribution2.PrecisionMarginal().Mean)\r\n",
    "[\r\n",
    "    [for x in 130.0 .. 0.1 .. 250.0 -> (x, trueDistribution.Density(x))] |> Chart.Line|> Chart.withTraceName $\"真の分布(μ={trueDistribution.Mean:N3}, λ={trueDistribution.Precision:N3})\" \r\n",
    "    [for x in 130.0 .. 0.1 .. 250.0 -> (x, normal1.Density(x))] |> Chart.Line |> Chart.withTraceName $\"事後分布の平均・精度の期待値を設定した正規分布(μ={normal1.Mean:N3}, λ={normal1.Precision:N3})\"\r\n",
    "    [for x in 130.0 .. 0.1 .. 250.0 -> (x, normal2.Density(x))] |> Chart.Line |> Chart.withTraceName $\"事後分布の平均・精度の期待値を設定した正規分布(μ={normal2.Mean:N3}, λ={normal2.Precision:N3})\"\r\n",
    "]\r\n",
    "|> Chart.combine\r\n",
    "|> Chart.withYAxisStyle(\"確率\", MinMax = (0.0, 0.2))\r\n",
    "|> Chart.withSize(1200.0, 500.0)"
   ],
   "outputs": [],
   "metadata": {
    "dotnet_interactive": {
     "language": "fsharp"
    }
   }
  },
  {
   "cell_type": "code",
   "execution_count": null,
   "source": [
    "// mを170.0に変更してみる\r\n",
    "let m2, beta2, a2, b2 = learn samples 170.0 beta a b\r\n",
    "let posteriorDistribution2 = NormalGamma(m2, beta2, a2, b2)\r\n",
    "let normal2 = Normal.WithMeanPrecision(posteriorDistribution2.MeanMarginal().Mean, posteriorDistribution2.PrecisionMarginal().Mean)\r\n",
    "[\r\n",
    "    [for x in 130.0 .. 0.1 .. 250.0 -> (x, trueDistribution.Density(x))] |> Chart.Line|> Chart.withTraceName $\"真の分布(μ={trueDistribution.Mean:N3}, λ={trueDistribution.Precision:N3})\" \r\n",
    "    [for x in 130.0 .. 0.1 .. 250.0 -> (x, normal1.Density(x))] |> Chart.Line |> Chart.withTraceName $\"事後分布の平均・精度の期待値を設定した正規分布(μ={normal1.Mean:N3}, λ={normal1.Precision:N3})\"\r\n",
    "    [for x in 130.0 .. 0.1 .. 250.0 -> (x, normal2.Density(x))] |> Chart.Line |> Chart.withTraceName $\"事後分布の平均・精度の期待値を設定した正規分布(μ={normal2.Mean:N3}, λ={normal2.Precision:N3})\"\r\n",
    "]\r\n",
    "|> Chart.combine\r\n",
    "|> Chart.withYAxisStyle(\"確率\", MinMax = (0.0, 0.2))\r\n",
    "|> Chart.withSize(1200.0, 500.0)"
   ],
   "outputs": [],
   "metadata": {
    "dotnet_interactive": {
     "language": "fsharp"
    }
   }
  },
  {
   "cell_type": "code",
   "execution_count": null,
   "source": [
    "let predictedDistribution2 = createPredictedDistribution m2 beta2 a2 b2\r\n",
    "[\r\n",
    "    [for x in 130.0 .. 0.1 .. 250.0 -> (x, trueDistribution.Density(x))] |> Chart.Line|> Chart.withTraceName $\"真の分布(μ={trueDistribution.Mean:N3}, σ={trueDistribution.StdDev:N3})\" \r\n",
    "    [for x in 130.0 .. 0.1 .. 250.0 -> (x, predictedDistribution1.Density(x))] |> Chart.Line |> Chart.withTraceName $\"予測分布(μ={predictedDistribution1.Mean:N3}, σ={predictedDistribution1.StdDev:N3})\"\r\n",
    "    [for x in 130.0 .. 0.1 .. 250.0 -> (x, predictedDistribution2.Density(x))] |> Chart.Line |> Chart.withTraceName $\"予測分布(μ={predictedDistribution2.Mean:N3}, σ={predictedDistribution2.StdDev:N3})\"\r\n",
    "]\r\n",
    "|> Chart.combine\r\n",
    "|> Chart.withYAxisStyle(\"確率\", MinMax = (0.0, 0.2))\r\n",
    "|> Chart.withSize(1000.0, 500.0)"
   ],
   "outputs": [],
   "metadata": {
    "dotnet_interactive": {
     "language": "fsharp"
    }
   }
  },
  {
   "cell_type": "markdown",
   "source": [
    "# ベイズ更新"
   ],
   "metadata": {
    "dotnet_interactive": {
     "language": "fsharp"
    }
   }
  },
  {
   "cell_type": "code",
   "execution_count": null,
   "source": [
    "let mutable updateM = 0.0\r\n",
    "let mutable updateBeta = 1.0\r\n",
    "let mutable updateA = 1.0\r\n",
    "let mutable updateB = 1.0\r\n",
    "\r\n",
    "let updateLearn trainData =\r\n",
    "    let hatM, hatBeta, hatA, hatB = learn trainData updateM updateBeta updateA updateB\r\n",
    "    updateM <- hatM\r\n",
    "    updateBeta <- hatBeta\r\n",
    "    updateA <- hatA\r\n",
    "    updateB <- hatB\r\n",
    "    ()\r\n",
    "\r\n",
    "let mutable learnedCount = 0\r\n",
    "let createPredictedDistributionChart trainData =\r\n",
    "    learnedCount <- learnedCount + Seq.length trainData\r\n",
    "    updateLearn trainData\r\n",
    "    let predictedDistribution = createPredictedDistribution updateM updateBeta updateA updateB\r\n",
    "    [for x in 130.0 .. 0.1 .. 250.0 -> (x, predictedDistribution.Density(x))] |> Chart.Line |> Chart.withTraceName $\"学習済みデータ{learnedCount}件予測分布(μ={predictedDistribution.Mean:N3}, σ={predictedDistribution.StdDev:N3})\"\r\n",
    "\r\n",
    "\r\n",
    "let trueDistributionChart = [for x in 130.0 .. 0.1 .. 250.0 -> (x, trueDistribution.Density(x))] |> Chart.Line|> Chart.withTraceName $\"真の分布(μ={trueDistribution.Mean:N3}, λ={trueDistribution.Precision:N3})\"\r\n",
    "\r\n",
    "trueDistribution.Samples()\r\n",
    "|> Seq.take 5000\r\n",
    "|> Seq.chunkBySize 1000\r\n",
    "|> Seq.map createPredictedDistributionChart\r\n",
    "|> Seq.append [trueDistributionChart]\r\n",
    "|> Chart.combine\r\n",
    "|> Chart.withYAxisStyle(\"確率\", MinMax = (0.0, 0.15))\r\n",
    "|> Chart.withSize(1500.0, 800.0)"
   ],
   "outputs": [],
   "metadata": {
    "dotnet_interactive": {
     "language": "fsharp"
    }
   }
  }
 ],
 "nbformat": 4,
 "nbformat_minor": 2
}